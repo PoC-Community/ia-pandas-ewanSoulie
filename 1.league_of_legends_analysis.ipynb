{
 "cells": [
  {
   "cell_type": "markdown",
   "id": "384805b1",
   "metadata": {},
   "source": [
    "<img src=\"./image/data.png\"/>\n",
    "\n",
    "# Introduction #\n",
    "\n",
    "Welcome to this workshop, the objective of this workshop is to analyze data using pandas.\\\n",
    "For this we will use a dataset that represents competitive league of legends games in 2020.\n",
    "\n",
    "Data analysis is closely related to artificial intelligence.\\\n",
    "Indeed, when we want to set up an artificial intelligence model, we usually have raw data,\\\n",
    "to get good results it is important to work on these raw data, in order to obtain meaningful data.\n",
    "\n",
    "In this workshop:\n",
    "   - Data analysis.\n",
    "   - Data processing.\n",
    "   \n",
    "For this we will use the pandas library : [pandas](https://pandas.pydata.org/)"
   ]
  },
  {
   "cell_type": "markdown",
   "id": "688401cc",
   "metadata": {},
   "source": [
    "### Requirements\n",
    "\n",
    "Check that you have pandas installed, if not open your shell and run the command: `pip3 install pandas`\\\n",
    "Make sure you have the `matches2020.csv` file to start the workshop.\n",
    "\n",
    "In this workshop you will analyze a csv file.\\\n",
    "I strongly advise you not to use any loop (for, while ... ect)\\\n",
    "Indeed this workshop is made to be successful without the use of any loop,\\\n",
    "Read the documentation, search on the web, and come to the supervisors if you get stuck on a part for too long."
   ]
  },
  {
   "cell_type": "code",
   "execution_count": 1,
   "id": "f8b97516",
   "metadata": {},
   "outputs": [
    {
     "name": "stdout",
     "output_type": "stream",
     "text": [
      "1.league_of_legends_analysis.ipynb\tdatasets.zip\t README.md\n",
      "2.video_games_data_visualisation.ipynb\timage\t\t video_games.csv\n",
      "Anaconda3-2023.09-0-Linux-x86_64.sh\tmatches2020.csv\n"
     ]
    }
   ],
   "source": [
    "!ls"
   ]
  },
  {
   "cell_type": "markdown",
   "id": "602e0a6e",
   "metadata": {},
   "source": [
    "### Import\n",
    "\n",
    "To start, it is necessary to import `pandas`, we give it the alias `pd` to be able to use its methods more easily.\\\n",
    "If you don't know what a method is I advise you to start with the workshop : `python basics`"
   ]
  },
  {
   "cell_type": "code",
   "execution_count": 2,
   "id": "5496c943",
   "metadata": {},
   "outputs": [],
   "source": [
    "import pandas as pd"
   ]
  },
  {
   "cell_type": "markdown",
   "id": "8e7065a6",
   "metadata": {},
   "source": [
    "## Read & Verify\n",
    "\n",
    "Here we are at our first task, the difficulty will increase gradually.\n",
    "\n",
    "\n",
    "For now pandas needs to read the csv to be able to use it.\\\n",
    "You have to read the file : `matches2020.csv`\\\n",
    "Since it is the first task, here is the link of the function : [read_csv](https://pandas.pydata.org/pandas-docs/stable/reference/api/pandas.read_csv.html)\\\n",
    "For the next steps, I will let you search in the documentation: [documentation](https://pandas.pydata.org/docs/index.html)"
   ]
  },
  {
   "cell_type": "code",
   "execution_count": 48,
   "id": "28ec7b15",
   "metadata": {},
   "outputs": [],
   "source": [
    "#read the file : matches2020.csv with the function read_csv\n",
    "\n",
    "data = pd.read_csv(\"matches2020.csv\")"
   ]
  },
  {
   "cell_type": "markdown",
   "id": "83ff96c8",
   "metadata": {},
   "source": [
    "Congratulations, you have successfully completed the first task,\n",
    "\n",
    "\n",
    "The second task is to display the dataframe using the [head](https://pandas.pydata.org/docs/reference/api/pandas.DataFrame.head.html) method.\\\n",
    "head will by default display the first 5 lines if you don't set any parameters."
   ]
  },
  {
   "cell_type": "code",
   "execution_count": 4,
   "id": "b8ec62b6",
   "metadata": {},
   "outputs": [
    {
     "data": {
      "text/html": [
       "<div>\n",
       "<style scoped>\n",
       "    .dataframe tbody tr th:only-of-type {\n",
       "        vertical-align: middle;\n",
       "    }\n",
       "\n",
       "    .dataframe tbody tr th {\n",
       "        vertical-align: top;\n",
       "    }\n",
       "\n",
       "    .dataframe thead th {\n",
       "        text-align: right;\n",
       "    }\n",
       "</style>\n",
       "<table border=\"1\" class=\"dataframe\">\n",
       "  <thead>\n",
       "    <tr style=\"text-align: right;\">\n",
       "      <th></th>\n",
       "      <th>Unnamed: 0</th>\n",
       "      <th>gameid</th>\n",
       "      <th>league</th>\n",
       "      <th>blueteam</th>\n",
       "      <th>redteam</th>\n",
       "      <th>bluetop</th>\n",
       "      <th>bluejungle</th>\n",
       "      <th>bluemid</th>\n",
       "      <th>blueadc</th>\n",
       "      <th>bluesupport</th>\n",
       "      <th>redtop</th>\n",
       "      <th>redjungle</th>\n",
       "      <th>redmid</th>\n",
       "      <th>redadc</th>\n",
       "      <th>redsupport</th>\n",
       "      <th>result</th>\n",
       "    </tr>\n",
       "  </thead>\n",
       "  <tbody>\n",
       "    <tr>\n",
       "      <th>0</th>\n",
       "      <td>0</td>\n",
       "      <td>ESPORTSTMNT03/1241318</td>\n",
       "      <td>KeSPA</td>\n",
       "      <td>SANDBOX Gaming</td>\n",
       "      <td>T1</td>\n",
       "      <td>Rumble</td>\n",
       "      <td>Elise</td>\n",
       "      <td>Qiyana</td>\n",
       "      <td>MissFortune</td>\n",
       "      <td>Nautilus</td>\n",
       "      <td>Aatrox</td>\n",
       "      <td>Gragas</td>\n",
       "      <td>Mordekaiser</td>\n",
       "      <td>Xayah</td>\n",
       "      <td>Rakan</td>\n",
       "      <td>1</td>\n",
       "    </tr>\n",
       "    <tr>\n",
       "      <th>1</th>\n",
       "      <td>1</td>\n",
       "      <td>ESPORTSTMNT03/1241322</td>\n",
       "      <td>KeSPA</td>\n",
       "      <td>T1</td>\n",
       "      <td>SANDBOX Gaming</td>\n",
       "      <td>Jayce</td>\n",
       "      <td>JarvanIV</td>\n",
       "      <td>Orianna</td>\n",
       "      <td>MissFortune</td>\n",
       "      <td>Nautilus</td>\n",
       "      <td>Aatrox</td>\n",
       "      <td>Elise</td>\n",
       "      <td>Qiyana</td>\n",
       "      <td>Varus</td>\n",
       "      <td>TahmKench</td>\n",
       "      <td>0</td>\n",
       "    </tr>\n",
       "    <tr>\n",
       "      <th>2</th>\n",
       "      <td>2</td>\n",
       "      <td>ESPORTSTMNT03/1241324</td>\n",
       "      <td>KeSPA</td>\n",
       "      <td>T1</td>\n",
       "      <td>SANDBOX Gaming</td>\n",
       "      <td>Renekton</td>\n",
       "      <td>RekSai</td>\n",
       "      <td>Mordekaiser</td>\n",
       "      <td>Xayah</td>\n",
       "      <td>Rakan</td>\n",
       "      <td>Aatrox</td>\n",
       "      <td>Sejuani</td>\n",
       "      <td>Azir</td>\n",
       "      <td>MissFortune</td>\n",
       "      <td>Nautilus</td>\n",
       "      <td>1</td>\n",
       "    </tr>\n",
       "    <tr>\n",
       "      <th>3</th>\n",
       "      <td>3</td>\n",
       "      <td>ESPORTSTMNT03/1241328</td>\n",
       "      <td>KeSPA</td>\n",
       "      <td>T1</td>\n",
       "      <td>SANDBOX Gaming</td>\n",
       "      <td>Pantheon</td>\n",
       "      <td>Elise</td>\n",
       "      <td>Nautilus</td>\n",
       "      <td>Xayah</td>\n",
       "      <td>Rakan</td>\n",
       "      <td>Quinn</td>\n",
       "      <td>Olaf</td>\n",
       "      <td>Orianna</td>\n",
       "      <td>MissFortune</td>\n",
       "      <td>Leona</td>\n",
       "      <td>0</td>\n",
       "    </tr>\n",
       "    <tr>\n",
       "      <th>4</th>\n",
       "      <td>4</td>\n",
       "      <td>ESPORTSTMNT03/1241386</td>\n",
       "      <td>KeSPA</td>\n",
       "      <td>DRX</td>\n",
       "      <td>Afreeca Freecs</td>\n",
       "      <td>Mordekaiser</td>\n",
       "      <td>JarvanIV</td>\n",
       "      <td>Ryze</td>\n",
       "      <td>Xayah</td>\n",
       "      <td>Rakan</td>\n",
       "      <td>Renekton</td>\n",
       "      <td>Elise</td>\n",
       "      <td>Velkoz</td>\n",
       "      <td>Varus</td>\n",
       "      <td>Braum</td>\n",
       "      <td>0</td>\n",
       "    </tr>\n",
       "  </tbody>\n",
       "</table>\n",
       "</div>"
      ],
      "text/plain": [
       "   Unnamed: 0                 gameid league        blueteam         redteam  \\\n",
       "0           0  ESPORTSTMNT03/1241318  KeSPA  SANDBOX Gaming              T1   \n",
       "1           1  ESPORTSTMNT03/1241322  KeSPA              T1  SANDBOX Gaming   \n",
       "2           2  ESPORTSTMNT03/1241324  KeSPA              T1  SANDBOX Gaming   \n",
       "3           3  ESPORTSTMNT03/1241328  KeSPA              T1  SANDBOX Gaming   \n",
       "4           4  ESPORTSTMNT03/1241386  KeSPA             DRX  Afreeca Freecs   \n",
       "\n",
       "       bluetop bluejungle      bluemid      blueadc bluesupport    redtop  \\\n",
       "0       Rumble      Elise       Qiyana  MissFortune    Nautilus    Aatrox   \n",
       "1        Jayce   JarvanIV      Orianna  MissFortune    Nautilus    Aatrox   \n",
       "2     Renekton     RekSai  Mordekaiser        Xayah       Rakan    Aatrox   \n",
       "3     Pantheon      Elise     Nautilus        Xayah       Rakan     Quinn   \n",
       "4  Mordekaiser   JarvanIV         Ryze        Xayah       Rakan  Renekton   \n",
       "\n",
       "  redjungle       redmid       redadc redsupport  result  \n",
       "0    Gragas  Mordekaiser        Xayah      Rakan       1  \n",
       "1     Elise       Qiyana        Varus  TahmKench       0  \n",
       "2   Sejuani         Azir  MissFortune   Nautilus       1  \n",
       "3      Olaf      Orianna  MissFortune      Leona       0  \n",
       "4     Elise       Velkoz        Varus      Braum       0  "
      ]
     },
     "execution_count": 4,
     "metadata": {},
     "output_type": "execute_result"
    }
   ],
   "source": [
    "# Use the head method\n",
    "pd.DataFrame.head(data)"
   ]
  },
  {
   "cell_type": "markdown",
   "id": "b9ef744c",
   "metadata": {},
   "source": [
    "**Expected output:** \\\n",
    "<img src=\"./image/head_result.png\"/>"
   ]
  },
  {
   "cell_type": "markdown",
   "id": "e65be67e",
   "metadata": {},
   "source": [
    "### Dataset length\n",
    "\n",
    "We can observe that indeed our dataset contains information about competitive league of legends games in 2020.\\\n",
    "I will describe the different columns :\n",
    "- the **id** of the game,\n",
    "- the **league**, in league of legends the competition is divided in different regional leagues,\\\n",
    "especially the LFL which is the french league and the LEC which is the european league.\n",
    "- the **name** of the blue team,\n",
    "- the **name** of the red team,\n",
    "- in a game of league of legends there are 5 different roles, \\\n",
    "the **top**, the **mid**, the **jungle**, the **adc** and the **support**, to each role corresponds its champion pool.\n",
    "- the result, equal to 1 if the blue team wins otherwise equal to 0\n",
    "\n",
    "You have to return the total number of games of the dataset."
   ]
  },
  {
   "cell_type": "code",
   "execution_count": 5,
   "id": "0ee878fa",
   "metadata": {},
   "outputs": [],
   "source": [
    "#return the number of games\n",
    "\n",
    "def number_of_games(df):\n",
    "    return data.shape[0]"
   ]
  },
  {
   "cell_type": "code",
   "execution_count": 6,
   "id": "57f408f6",
   "metadata": {},
   "outputs": [
    {
     "data": {
      "text/plain": [
       "5612"
      ]
     },
     "execution_count": 6,
     "metadata": {},
     "output_type": "execute_result"
    }
   ],
   "source": [
    "number_of_games(data)"
   ]
  },
  {
   "cell_type": "markdown",
   "id": "4a03dea3",
   "metadata": {},
   "source": [
    "**Expected output :** `5612`\n"
   ]
  },
  {
   "cell_type": "markdown",
   "id": "2e252523",
   "metadata": {},
   "source": [
    "The LFL is the French league, teams like Vitality or LDLC play there. \\\n",
    "you will need to return the number of competitive games in the LFL in 2020.\n",
    "\n",
    "Try to create a variable that retrieves only the games where the League column is equal to `LFL`,\\\n",
    "then apply the same method as before."
   ]
  },
  {
   "cell_type": "code",
   "execution_count": 7,
   "id": "2599646b",
   "metadata": {},
   "outputs": [],
   "source": [
    "#return the number of games in LFL\n",
    "\n",
    "def number_of_games_lfl(df):\n",
    "    return data['league'].value_counts()['LFL']"
   ]
  },
  {
   "cell_type": "code",
   "execution_count": 8,
   "id": "5e044081",
   "metadata": {},
   "outputs": [
    {
     "data": {
      "text/plain": [
       "129"
      ]
     },
     "execution_count": 8,
     "metadata": {},
     "output_type": "execute_result"
    }
   ],
   "source": [
    "number_of_games_lfl(data)"
   ]
  },
  {
   "cell_type": "markdown",
   "id": "b15a2a3e",
   "metadata": {},
   "source": [
    "**Expected output :** `129`"
   ]
  },
  {
   "cell_type": "markdown",
   "id": "3eba9b27",
   "metadata": {},
   "source": [
    "### Winrate\n",
    "\n",
    "Bravo, you managed to get the parts of LFL and to count them\n",
    "\n",
    "Let's go to the next level, \\\n",
    "In league of legends, the map has a blue side and a red side,\\\n",
    "the goal of the red team is to destroy the base on the blue side while the blue team must destroy the base on the red side.\\\n",
    "There is a rumor that being on the blue side gives an advantage to the team, check this rumor.\n",
    "\n",
    "try to calculate the winrate of a team when it is on the `red` side.\\\n",
    "Don't forget that when the red team loses, the `result` is 1 and when it wins, the `result` is 0."
   ]
  },
  {
   "cell_type": "code",
   "execution_count": 52,
   "id": "3e1453f6",
   "metadata": {},
   "outputs": [],
   "source": [
    "#Calculate redsite winrate\n",
    "\n",
    "def redside_winrate(df):\n",
    "    val1 = number_of_games(df)\n",
    "    val2 = df[df[\"result\"] == 0].shape[0]\n",
    "    return val2 / val1"
   ]
  },
  {
   "cell_type": "code",
   "execution_count": 54,
   "id": "a8bd24ed",
   "metadata": {},
   "outputs": [
    {
     "data": {
      "text/plain": [
       "0.4718460441910192"
      ]
     },
     "execution_count": 54,
     "metadata": {},
     "output_type": "execute_result"
    }
   ],
   "source": [
    "redside_winrate(data)"
   ]
  },
  {
   "cell_type": "markdown",
   "id": "ed43f2af",
   "metadata": {},
   "source": [
    "**Expected output :** `0.4718460441910192`"
   ]
  },
  {
   "cell_type": "markdown",
   "id": "c331fd10",
   "metadata": {},
   "source": [
    "### List without duplicates\n",
    "\n",
    "Well done.\\\n",
    "But one question is on my mind.\\\n",
    "Which teams are in the French League of Legends (LFL)?\\\n",
    "List the LFL teams without duplicates"
   ]
  },
  {
   "cell_type": "code",
   "execution_count": 70,
   "id": "a9ff15bd",
   "metadata": {},
   "outputs": [],
   "source": [
    "#return the list of LFL teams without duplicates\n",
    "\n",
    "def list_equip_lfl(df):\n",
    "    new_df = df[df[\"league\"] == \"LFL\"]\n",
    "    new_df = new_df.drop_duplicates(subset='blueteam')\n",
    "    return new_df"
   ]
  },
  {
   "cell_type": "code",
   "execution_count": 71,
   "id": "58bdc608",
   "metadata": {},
   "outputs": [
    {
     "data": {
      "text/html": [
       "<div>\n",
       "<style scoped>\n",
       "    .dataframe tbody tr th:only-of-type {\n",
       "        vertical-align: middle;\n",
       "    }\n",
       "\n",
       "    .dataframe tbody tr th {\n",
       "        vertical-align: top;\n",
       "    }\n",
       "\n",
       "    .dataframe thead th {\n",
       "        text-align: right;\n",
       "    }\n",
       "</style>\n",
       "<table border=\"1\" class=\"dataframe\">\n",
       "  <thead>\n",
       "    <tr style=\"text-align: right;\">\n",
       "      <th></th>\n",
       "      <th>Unnamed: 0</th>\n",
       "      <th>gameid</th>\n",
       "      <th>league</th>\n",
       "      <th>blueteam</th>\n",
       "      <th>redteam</th>\n",
       "      <th>bluetop</th>\n",
       "      <th>bluejungle</th>\n",
       "      <th>bluemid</th>\n",
       "      <th>blueadc</th>\n",
       "      <th>bluesupport</th>\n",
       "      <th>redtop</th>\n",
       "      <th>redjungle</th>\n",
       "      <th>redmid</th>\n",
       "      <th>redadc</th>\n",
       "      <th>redsupport</th>\n",
       "      <th>result</th>\n",
       "    </tr>\n",
       "  </thead>\n",
       "  <tbody>\n",
       "    <tr>\n",
       "      <th>45</th>\n",
       "      <td>45</td>\n",
       "      <td>ESPORTSTMNT01/1270513</td>\n",
       "      <td>LFL</td>\n",
       "      <td>Misfits Premier</td>\n",
       "      <td>IZI Dream</td>\n",
       "      <td>Irelia</td>\n",
       "      <td>Qiyana</td>\n",
       "      <td>Rumble</td>\n",
       "      <td>MissFortune</td>\n",
       "      <td>Leona</td>\n",
       "      <td>Renekton</td>\n",
       "      <td>LeeSin</td>\n",
       "      <td>Cassiopeia</td>\n",
       "      <td>Varus</td>\n",
       "      <td>Nautilus</td>\n",
       "      <td>1</td>\n",
       "    </tr>\n",
       "    <tr>\n",
       "      <th>46</th>\n",
       "      <td>46</td>\n",
       "      <td>ESPORTSTMNT01/1270545</td>\n",
       "      <td>LFL</td>\n",
       "      <td>GameWard</td>\n",
       "      <td>Team MCES</td>\n",
       "      <td>Mordekaiser</td>\n",
       "      <td>Qiyana</td>\n",
       "      <td>Cassiopeia</td>\n",
       "      <td>Senna</td>\n",
       "      <td>TahmKench</td>\n",
       "      <td>Ornn</td>\n",
       "      <td>RekSai</td>\n",
       "      <td>Velkoz</td>\n",
       "      <td>MissFortune</td>\n",
       "      <td>Thresh</td>\n",
       "      <td>1</td>\n",
       "    </tr>\n",
       "    <tr>\n",
       "      <th>47</th>\n",
       "      <td>47</td>\n",
       "      <td>ESPORTSTMNT01/1270566</td>\n",
       "      <td>LFL</td>\n",
       "      <td>Solary</td>\n",
       "      <td>GamersOrigin</td>\n",
       "      <td>Malphite</td>\n",
       "      <td>Gragas</td>\n",
       "      <td>Azir</td>\n",
       "      <td>Senna</td>\n",
       "      <td>Braum</td>\n",
       "      <td>Vladimir</td>\n",
       "      <td>JarvanIV</td>\n",
       "      <td>Lucian</td>\n",
       "      <td>Aphelios</td>\n",
       "      <td>Nautilus</td>\n",
       "      <td>0</td>\n",
       "    </tr>\n",
       "    <tr>\n",
       "      <th>48</th>\n",
       "      <td>48</td>\n",
       "      <td>ESPORTSTMNT01/1270591</td>\n",
       "      <td>LFL</td>\n",
       "      <td>Vitality.Bee</td>\n",
       "      <td>LDLC OL</td>\n",
       "      <td>Rumble</td>\n",
       "      <td>JarvanIV</td>\n",
       "      <td>Cassiopeia</td>\n",
       "      <td>MissFortune</td>\n",
       "      <td>Rakan</td>\n",
       "      <td>Camille</td>\n",
       "      <td>RekSai</td>\n",
       "      <td>Zoe</td>\n",
       "      <td>Varus</td>\n",
       "      <td>Braum</td>\n",
       "      <td>1</td>\n",
       "    </tr>\n",
       "    <tr>\n",
       "      <th>50</th>\n",
       "      <td>50</td>\n",
       "      <td>ESPORTSTMNT01/1280752</td>\n",
       "      <td>LFL</td>\n",
       "      <td>GamersOrigin</td>\n",
       "      <td>IZI Dream</td>\n",
       "      <td>Gangplank</td>\n",
       "      <td>Qiyana</td>\n",
       "      <td>Cassiopeia</td>\n",
       "      <td>Aphelios</td>\n",
       "      <td>Leona</td>\n",
       "      <td>Mordekaiser</td>\n",
       "      <td>Elise</td>\n",
       "      <td>Orianna</td>\n",
       "      <td>MissFortune</td>\n",
       "      <td>Braum</td>\n",
       "      <td>1</td>\n",
       "    </tr>\n",
       "    <tr>\n",
       "      <th>51</th>\n",
       "      <td>51</td>\n",
       "      <td>ESPORTSTMNT01/1270802</td>\n",
       "      <td>LFL</td>\n",
       "      <td>LDLC OL</td>\n",
       "      <td>Solary</td>\n",
       "      <td>Vladimir</td>\n",
       "      <td>Gragas</td>\n",
       "      <td>Yasuo</td>\n",
       "      <td>MissFortune</td>\n",
       "      <td>Nautilus</td>\n",
       "      <td>Ornn</td>\n",
       "      <td>RekSai</td>\n",
       "      <td>Cassiopeia</td>\n",
       "      <td>Aphelios</td>\n",
       "      <td>Leona</td>\n",
       "      <td>1</td>\n",
       "    </tr>\n",
       "    <tr>\n",
       "      <th>93</th>\n",
       "      <td>93</td>\n",
       "      <td>ESPORTSTMNT02/1271219</td>\n",
       "      <td>LFL</td>\n",
       "      <td>Team MCES</td>\n",
       "      <td>Solary</td>\n",
       "      <td>Sett</td>\n",
       "      <td>Olaf</td>\n",
       "      <td>Cassiopeia</td>\n",
       "      <td>Lucian</td>\n",
       "      <td>Nautilus</td>\n",
       "      <td>Ornn</td>\n",
       "      <td>Gragas</td>\n",
       "      <td>Viktor</td>\n",
       "      <td>Senna</td>\n",
       "      <td>Alistar</td>\n",
       "      <td>0</td>\n",
       "    </tr>\n",
       "    <tr>\n",
       "      <th>95</th>\n",
       "      <td>95</td>\n",
       "      <td>ESPORTSTMNT02/1261226</td>\n",
       "      <td>LFL</td>\n",
       "      <td>IZI Dream</td>\n",
       "      <td>Team MCES</td>\n",
       "      <td>Rumble</td>\n",
       "      <td>JarvanIV</td>\n",
       "      <td>Annie</td>\n",
       "      <td>Lucian</td>\n",
       "      <td>Alistar</td>\n",
       "      <td>Sett</td>\n",
       "      <td>LeeSin</td>\n",
       "      <td>Leblanc</td>\n",
       "      <td>MissFortune</td>\n",
       "      <td>Leona</td>\n",
       "      <td>0</td>\n",
       "    </tr>\n",
       "  </tbody>\n",
       "</table>\n",
       "</div>"
      ],
      "text/plain": [
       "    Unnamed: 0                 gameid league         blueteam       redteam  \\\n",
       "45          45  ESPORTSTMNT01/1270513    LFL  Misfits Premier     IZI Dream   \n",
       "46          46  ESPORTSTMNT01/1270545    LFL         GameWard     Team MCES   \n",
       "47          47  ESPORTSTMNT01/1270566    LFL           Solary  GamersOrigin   \n",
       "48          48  ESPORTSTMNT01/1270591    LFL     Vitality.Bee       LDLC OL   \n",
       "50          50  ESPORTSTMNT01/1280752    LFL     GamersOrigin     IZI Dream   \n",
       "51          51  ESPORTSTMNT01/1270802    LFL          LDLC OL        Solary   \n",
       "93          93  ESPORTSTMNT02/1271219    LFL        Team MCES        Solary   \n",
       "95          95  ESPORTSTMNT02/1261226    LFL        IZI Dream     Team MCES   \n",
       "\n",
       "        bluetop bluejungle     bluemid      blueadc bluesupport       redtop  \\\n",
       "45       Irelia     Qiyana      Rumble  MissFortune       Leona     Renekton   \n",
       "46  Mordekaiser     Qiyana  Cassiopeia        Senna   TahmKench         Ornn   \n",
       "47     Malphite     Gragas        Azir        Senna       Braum     Vladimir   \n",
       "48       Rumble   JarvanIV  Cassiopeia  MissFortune       Rakan      Camille   \n",
       "50    Gangplank     Qiyana  Cassiopeia     Aphelios       Leona  Mordekaiser   \n",
       "51     Vladimir     Gragas       Yasuo  MissFortune    Nautilus         Ornn   \n",
       "93         Sett       Olaf  Cassiopeia       Lucian    Nautilus         Ornn   \n",
       "95       Rumble   JarvanIV       Annie       Lucian     Alistar         Sett   \n",
       "\n",
       "   redjungle      redmid       redadc redsupport  result  \n",
       "45    LeeSin  Cassiopeia        Varus   Nautilus       1  \n",
       "46    RekSai      Velkoz  MissFortune     Thresh       1  \n",
       "47  JarvanIV      Lucian     Aphelios   Nautilus       0  \n",
       "48    RekSai         Zoe        Varus      Braum       1  \n",
       "50     Elise     Orianna  MissFortune      Braum       1  \n",
       "51    RekSai  Cassiopeia     Aphelios      Leona       1  \n",
       "93    Gragas      Viktor        Senna    Alistar       0  \n",
       "95    LeeSin     Leblanc  MissFortune      Leona       0  "
      ]
     },
     "execution_count": 71,
     "metadata": {},
     "output_type": "execute_result"
    }
   ],
   "source": [
    "list_equip_lfl(data)"
   ]
  },
  {
   "cell_type": "markdown",
   "id": "9903527a",
   "metadata": {},
   "source": [
    "**Expected output :** ```array(['Misfits Premier', 'GameWard', 'Solary', 'Vitality.Bee', 'GamersOrigin', 'LDLC OL', 'Team MCES', 'IZI Dream'], dtype=object)```"
   ]
  },
  {
   "cell_type": "markdown",
   "id": "451648c4",
   "metadata": {},
   "source": [
    "### Recurrent value\n",
    "\n",
    "Well done, it looks like there were 8 teams in the LFL in 2020.\n",
    "\n",
    "League of Legends is a game where the meta changes regularly,\\\n",
    "every year some champions dominate the game,\\\n",
    "The few games I played, I played the mid role.\\\n",
    "Which champion has been playing the most in mid. \\\n",
    "What is the value that appears the most in the columns: `bluemid` and `redmid` ?"
   ]
  },
  {
   "cell_type": "code",
   "execution_count": 72,
   "id": "322fcca9",
   "metadata": {},
   "outputs": [],
   "source": [
    "#return the name of the champion who is the most played in midlane\n",
    "\n",
    "def top_pick_mid(df):\n",
    "    temp = pd.concat([df[\"redmid\"], df[\"bluemid\"]])\n",
    "    elem_counts = temp.value_counts()\n",
    "    return elem_counts.idxmax()"
   ]
  },
  {
   "cell_type": "code",
   "execution_count": 73,
   "id": "203583fb",
   "metadata": {},
   "outputs": [
    {
     "data": {
      "text/plain": [
       "'Zoe'"
      ]
     },
     "execution_count": 73,
     "metadata": {},
     "output_type": "execute_result"
    }
   ],
   "source": [
    "top_pick_mid(data)"
   ]
  },
  {
   "cell_type": "markdown",
   "id": "47c9f209",
   "metadata": {},
   "source": [
    "**Expected output :** `'Zoe'`"
   ]
  },
  {
   "cell_type": "markdown",
   "id": "1f4d103b",
   "metadata": {},
   "source": [
    "Ah Zoé,\\\n",
    "The famous bubbles that, when they touch you, make you wake up at your fountain.\n",
    "\n",
    "More seriously, Zoé seems to have been extremely played in the mid.\\\n",
    "But all roles taken together,which are the 5 champions who have been the most played.\n",
    "\n",
    "To do this look at the 5 roles of both teams to see which value appears the most : \\\n",
    "`bluetop`, `bluejungle`, `bluemid`, `blueadc`, `bluesupport`, `redtop`, `redjungle`, `redmid`, `redadc`, `redsupport`.\n",
    "\n",
    "Good luck!"
   ]
  },
  {
   "cell_type": "code",
   "execution_count": 74,
   "id": "86632693",
   "metadata": {},
   "outputs": [],
   "source": [
    "#return the five most played champions (top, mid, jungle, adc, support)\n",
    "\n",
    "def ranking_all_pick(df):\n",
    "    frames = [df[\"bluemid\"], df[\"bluetop\"], df[\"bluejungle\"], df[\"blueadc\"], df[\"bluesupport\"], df[\"redmid\"], df[\"redtop\"], df[\"redjungle\"], df[\"redadc\"], df[\"redsupport\"]]\n",
    "    return pd.concat(frames).value_counts()[:5].index.tolist()"
   ]
  },
  {
   "cell_type": "code",
   "execution_count": 75,
   "id": "66a21821",
   "metadata": {},
   "outputs": [
    {
     "data": {
      "text/plain": [
       "['Aphelios', 'Nautilus', 'Sett', 'Thresh', 'Ornn']"
      ]
     },
     "execution_count": 75,
     "metadata": {},
     "output_type": "execute_result"
    }
   ],
   "source": [
    "ranking_all_pick(data)"
   ]
  },
  {
   "cell_type": "markdown",
   "id": "897641ac",
   "metadata": {},
   "source": [
    "**Expected output :** \n",
    "\n",
    "`Aphelios    2147\n",
    " Nautilus    2084\n",
    " Sett        1816\n",
    " Thresh      1730\n",
    " Ornn        1700\n",
    " dtype: int64`"
   ]
  },
  {
   "cell_type": "markdown",
   "id": "7e723972",
   "metadata": {},
   "source": [
    "### Winrate in LEC\n",
    "\n",
    "Zoë is finally not even in the top 5 most played champions, maybe she was ban most of the time.\\\n",
    "Aphelios seems to have dominated the summoner's rift.\n",
    "\n",
    "The LEC is the European league one rank above the LFL, the dream of every European player. \\\n",
    "I wonder which team was able to dominate this league.\\\n",
    "List the different teams in the LEC league and their number of wins."
   ]
  },
  {
   "cell_type": "code",
   "execution_count": 83,
   "id": "19dda682",
   "metadata": {},
   "outputs": [],
   "source": [
    "#return the number of wins for each team in the LEC league\n",
    "\n",
    "def display_wins_per_teams(df):\n",
    "    lec_df = df[df['league'] == 'LEC']\n",
    "    lec_df['winning_team'] = lec_df.apply(lambda row: row['blueteam'] if row['result'] == 1 else row['redteam'], axis=1)\n",
    "    wins_per_team = lec_df.groupby('winning_team').size()\n",
    "    return wins_per_team"
   ]
  },
  {
   "cell_type": "code",
   "execution_count": 84,
   "id": "6ebe6022",
   "metadata": {},
   "outputs": [
    {
     "name": "stderr",
     "output_type": "stream",
     "text": [
      "/tmp/ipykernel_7618/3690300783.py:5: SettingWithCopyWarning: \n",
      "A value is trying to be set on a copy of a slice from a DataFrame.\n",
      "Try using .loc[row_indexer,col_indexer] = value instead\n",
      "\n",
      "See the caveats in the documentation: https://pandas.pydata.org/pandas-docs/stable/user_guide/indexing.html#returning-a-view-versus-a-copy\n",
      "  lec_df['winning_team'] = lec_df.apply(lambda row: row['blueteam'] if row['result'] == 1 else row['redteam'], axis=1)\n"
     ]
    },
    {
     "data": {
      "text/plain": [
       "winning_team\n",
       "Excel Esports            15\n",
       "FC Schalke 04 Esports    18\n",
       "Fnatic                   34\n",
       "G2 Esports               48\n",
       "MAD Lions                31\n",
       "Misfits Gaming           18\n",
       "Origen                   24\n",
       "Rogue                    31\n",
       "SK Gaming                13\n",
       "Team Vitality             9\n",
       "dtype: int64"
      ]
     },
     "execution_count": 84,
     "metadata": {},
     "output_type": "execute_result"
    }
   ],
   "source": [
    "display_wins_per_teams(data)"
   ]
  },
  {
   "cell_type": "markdown",
   "id": "abd0406e",
   "metadata": {},
   "source": [
    "**Expected output :**\n",
    "\n",
    "`G2 Esports               48\n",
    " Fnatic                   34\n",
    " MAD Lions                31\n",
    " Rogue                    31\n",
    " Origen                   24\n",
    " FC Schalke 04 Esports    18\n",
    " Misfits Gaming           18\n",
    " Excel Esports            15\n",
    " SK Gaming                13\n",
    " Team Vitality             9\n",
    " dtype: int64`"
   ]
  },
  {
   "cell_type": "markdown",
   "id": "107140ef",
   "metadata": {},
   "source": [
    "### Counter\n",
    "\n",
    "What a team: G2!\n",
    "\n",
    "Aphelios was the most played champion in competition in 2020,\\\n",
    "in my research I noticed that Ezreal was the champion who was the most pick against Aphelios.\\\n",
    "Was this a good decision ?\n",
    "\n",
    "Calculate the winrate of Aphelios against Ezreal,\\\n",
    "Aphelios and Ezreal are champions that are usually played in the role of adc. \\\n",
    "Just use the `blueadc` and `redadc` columns and ```result``` for this exercise."
   ]
  },
  {
   "cell_type": "code",
   "execution_count": 137,
   "id": "0cca2db3",
   "metadata": {},
   "outputs": [],
   "source": [
    "def aphelios_vs_ezreal(df):\n",
    "    cond1 = df[df[\"blueadc\"] == 'Aphelios']\n",
    "    cond1 = cond1[cond1['redadc'] == 'Ezreal']\n",
    "    cond2 = df[df[\"redadc\"] == 'Aphelios']\n",
    "    cond2 = cond2[cond2['blueadc'] == 'Ezreal']\n",
    "    sol1 = cond1.loc[cond1[\"result\"] == 1]\n",
    "    sol2 = cond2.loc[cond2[\"result\"] == 0]\n",
    "    return (len(sol1) + len(sol2)) / (len(cond1) + len(cond2))"
   ]
  },
  {
   "cell_type": "code",
   "execution_count": 138,
   "id": "4a2c2086",
   "metadata": {},
   "outputs": [
    {
     "data": {
      "text/plain": [
       "0.528046421663443"
      ]
     },
     "execution_count": 138,
     "metadata": {},
     "output_type": "execute_result"
    }
   ],
   "source": [
    "aphelios_vs_ezreal(data)"
   ]
  },
  {
   "cell_type": "markdown",
   "id": "856bcff6",
   "metadata": {},
   "source": [
    "**Expected output :** `0.528046421663443`"
   ]
  },
  {
   "cell_type": "markdown",
   "id": "7d57eea4",
   "metadata": {},
   "source": [
    "You have answered all my questions, well done.\\\n",
    "Now you are free to do your analysis.\n",
    "\n",
    "Why don't you try to see with which support Aphelios has the best winrate for example?"
   ]
  },
  {
   "cell_type": "code",
   "execution_count": null,
   "id": "f22450a5",
   "metadata": {},
   "outputs": [],
   "source": [
    "def name_this_function(df):\n",
    "    \"\"\"\n",
    "        You are free, process the data to try to get out indicators that can be interesting\n",
    "    \"\"\"\n",
    "    return None"
   ]
  },
  {
   "cell_type": "markdown",
   "id": "0ec43f54",
   "metadata": {},
   "source": [
    "## Well played\n",
    "\n",
    "You were able to see the basic operation of pandas.\\\n",
    "You now understand one of the basics of data science.\n",
    "\n",
    "Fortunately I thought about the brave people who would arrive there, a second topic is waiting for you on a dataset detailing the sale of video games in the world.\n",
    "\n",
    "<img src=\"./image/win.png\"/>"
   ]
  }
 ],
 "metadata": {
  "kernelspec": {
   "display_name": "Python 3 (ipykernel)",
   "language": "python",
   "name": "python3"
  },
  "language_info": {
   "codemirror_mode": {
    "name": "ipython",
    "version": 3
   },
   "file_extension": ".py",
   "mimetype": "text/x-python",
   "name": "python",
   "nbconvert_exporter": "python",
   "pygments_lexer": "ipython3",
   "version": "3.11.5"
  }
 },
 "nbformat": 4,
 "nbformat_minor": 5
}
